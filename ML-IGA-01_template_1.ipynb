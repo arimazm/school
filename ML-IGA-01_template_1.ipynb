{
 "cells": [
  {
   "cell_type": "markdown",
   "metadata": {},
   "source": [
    "# MACHINE LEARNING\n",
    "# IGA-01 Bankruptcy prediction\n"
   ]
  },
  {
   "cell_type": "markdown",
   "metadata": {},
   "source": [
    "### Students\n",
    "Dmitry Timerbaev,\n",
    "Zamira Magomedova,\n",
    "Daria Dobrego,\n",
    "Reynier Ambroise\n"
   ]
  },
  {
   "cell_type": "markdown",
   "metadata": {},
   "source": [
    "### Setup of the problem\n",
    "\n",
    "In this assignment you are asked to continue working with the problem of bankruptcy prediction. You will need to program a function which, for different cut-offs, calculates recalls for Classes 0 and 1 for a logistic regression. Also, the maximum accuracy value (on the range of cutoffs) and the corresponding cut-off value should be found. This function should help a data analyst decide on the optimal value of the cut-off for a logistic regression classifier.\n",
    "\n",
    "**HINTS**\n",
    "\n",
    "To code the function, you will need the following functions from the standard modules:\n",
    "\n",
    "- LogisticRegression from sklean.linear_models\n",
    "- predict_proba (see the help file on LogisticRegression)\n",
    "- np.linspace\n",
    "- accuracy_score from sklm\n",
    "- recall_score from sklm\n",
    "- np.max\n",
    "- np.argmax\n",
    "\n",
    "Also keep in mind that in Python values **True** and **False** can be converted correspondingly to 1 and 0 with the *.astype(int)* method.\n",
    "\n",
    "As a result, you need to reconstruct the following graph:\n",
    "\n",
    "![Recalls](recalls.png)\n"
   ]
  },
  {
   "cell_type": "code",
   "execution_count": 1,
   "metadata": {
    "scrolled": true
   },
   "outputs": [],
   "source": [
    "# load libraries\n",
    "import pandas as pd\n",
    "import numpy as np\n",
    "import matplotlib.pyplot as plt\n",
    "import sklearn.metrics as sklm\n",
    "\n",
    "from sklearn.linear_model import LogisticRegression"
   ]
  },
  {
   "cell_type": "code",
   "execution_count": 2,
   "metadata": {
    "scrolled": false
   },
   "outputs": [],
   "source": [
    "# read the training and the test samples\n",
    "df_bank_train=pd.read_csv(\"bankloans_train.csv\")\n",
    "df_bank_test=pd.read_csv(\"bankloans_test.csv\")\n",
    "\n",
    "# get X_train and y_train\n",
    "X_train = df_bank_train.drop(\"default\", axis=1)\n",
    "y_train = df_bank_train[\"default\"]\n",
    "\n",
    "# get X_test and y_test\n",
    "X_test = df_bank_test.drop(\"default\", axis=1)\n",
    "y_test = df_bank_test[\"default\"]"
   ]
  },
  {
   "cell_type": "code",
   "execution_count": 3,
   "metadata": {},
   "outputs": [],
   "source": [
    "# produce a range of cut-offs\n",
    "n_bins = 500\n",
    "cutoffs = np.linspace(start=0, stop=1, num=n_bins)"
   ]
  },
  {
   "cell_type": "markdown",
   "metadata": {},
   "source": [
    "# Task 1 (2 points)\n",
    "\n",
    "**Program a function to calculate recalls for Classes 0 and 1, as well as the overall accuracy of prediction, for a range of above-given cut-offs.**"
   ]
  },
  {
   "cell_type": "code",
   "execution_count": 4,
   "metadata": {},
   "outputs": [],
   "source": [
    "def RecallsAccuracy(X_tr, y_tr, X_te, y_te, cutoffs):\n",
    "    \n",
    "    # values opposite of y_te\n",
    "    y_test0 = np.array([(y_te[i] != 1).astype(int) for i in range(len(y_te))]) \n",
    "    \n",
    "    # estimate a basic logistic regression for the given training data\n",
    "    clfr = LogisticRegression(random_state=0, solver='lbfgs', multi_class='ovr').fit(X_tr, y_tr)\n",
    "    \n",
    "    # predict probabilities for the given test data\n",
    "    predictions = clfr.predict_proba(X_te)\n",
    "\n",
    "    # make containers\n",
    "    recalls_0=[]\n",
    "    recalls_1=[]\n",
    "    acc_scores=[]\n",
    "    \n",
    "    # run the loop\n",
    "    for cutoff in cutoffs:\n",
    "    \n",
    "        ## calculate predictions - no need to reestimate regression!\n",
    "        class0 = np.array([(predictions[i][1]<cutoff).astype(int) for i in range(len(X_te))])\n",
    "        class1 = np.array([(predictions[i][1]>cutoff).astype(int) for i in range(len(X_te))])\n",
    "        \n",
    "        ## calculate accuracy\n",
    "        acc_score = sklm.accuracy_score(y_te, class1)\n",
    "        \n",
    "        ## calculate recalls\n",
    "        recall0 = sklm.recall_score(y_test0, class0)\n",
    "        recall1 = sklm.recall_score(y_te, class1)\n",
    "        \n",
    "        ## store results\n",
    "        recalls_0.append(recall0)\n",
    "        recalls_1.append(recall1)\n",
    "        acc_scores.append(acc_score)\n",
    "     \n",
    "    \n",
    "    # return the results\n",
    "    return [recalls_0, recalls_1, acc_scores]"
   ]
  },
  {
   "cell_type": "code",
   "execution_count": 5,
   "metadata": {},
   "outputs": [],
   "source": [
    "# call the function\n",
    "metrics_all = RecallsAccuracy(X_tr=X_train, y_tr=y_train, X_te=X_test, y_te=y_test, cutoffs=cutoffs)"
   ]
  },
  {
   "cell_type": "markdown",
   "metadata": {},
   "source": [
    "## Task 2. (1 point)\n",
    "\n",
    "**Calculate and print out the maximum accuracy (on the range of cutoffs) and the corresponding cut-off value.**"
   ]
  },
  {
   "cell_type": "code",
   "execution_count": 80,
   "metadata": {
    "scrolled": true
   },
   "outputs": [
    {
     "name": "stdout",
     "output_type": "stream",
     "text": [
      "Maximum accuracy =  0.8\n",
      "for cut-off =  0.3607214428857715\n"
     ]
    }
   ],
   "source": [
    "# calculate maximum accuracy\n",
    "max_acc_value = np.max(metrics_all[2])\n",
    "max_acc_index = np.argmax(metrics_all[2])\n",
    "max_acc_cutoff = cutoffs[max_acc_index]\n",
    "\n",
    "# print the values\n",
    "print(\"Maximum accuracy = \", max_acc_value)\n",
    "print(\"for cut-off = \", max_acc_cutoff)"
   ]
  },
  {
   "cell_type": "markdown",
   "metadata": {},
   "source": [
    "## Task 3. (2 points)\n",
    "\n",
    "**Construct (reproduce) the required graph (as given above).**"
   ]
  },
  {
   "cell_type": "code",
   "execution_count": 81,
   "metadata": {},
   "outputs": [
    {
     "data": {
      "image/png": "[encoded data removed]",
      "text/plain": [
       "<Figure size 432x288 with 1 Axes>"
      ]
     },
     "metadata": {
      "needs_background": "light"
     },
     "output_type": "display_data"
    }
   ],
   "source": [
    "# construct the graph\n",
    "fig, ax = plt.subplots(1,1)\n",
    "linestyles = [':', '--', '-']\n",
    "labels = [\"Recall for Class 0\", \"Recall for Class 1\", \"Overall Accuracy\"]\n",
    "\n",
    "# setting plot axes limits\n",
    "plt.xlim([0,1])\n",
    "plt.ylim([0,1])\n",
    "\n",
    "# setting axes labels and the title\n",
    "ax.plot(cutoffs,metrics_all[0], label=labels[0], linestyle=linestyles[0])\n",
    "ax.plot(cutoffs,metrics_all[1], label=labels[1], linestyle=linestyles[1])\n",
    "ax.plot(cutoffs,metrics_all[2], label=labels[2], linestyle=linestyles[2])\n",
    "plt.xlabel(\"Cut-off value\")\n",
    "plt.ylabel(\"Metric value\")\n",
    "plt.grid()\n",
    "\n",
    "# adding the legend\n",
    "plt.legend()\n",
    "    \n",
    "# showing the graph\n",
    "plt.show()"
   ]
  }
 ],
 "metadata": {
  "kernelspec": {
   "display_name": "Python 3",
   "language": "python",
   "name": "python3"
  },
  "language_info": {
   "codemirror_mode": {
    "name": "ipython",
    "version": 3
   },
   "file_extension": ".py",
   "mimetype": "text/x-python",
   "name": "python",
   "nbconvert_exporter": "python",
   "pygments_lexer": "ipython3",
   "version": "3.7.3"
  },
  "varInspector": {
   "cols": {
    "lenName": 16,
    "lenType": 16,
    "lenVar": 40
   },
   "kernels_config": {
    "python": {
     "delete_cmd_postfix": "",
     "delete_cmd_prefix": "del ",
     "library": "var_list.py",
     "varRefreshCmd": "print(var_dic_list())"
    },
    "r": {
     "delete_cmd_postfix": ") ",
     "delete_cmd_prefix": "rm(",
     "library": "var_list.r",
     "varRefreshCmd": "cat(var_dic_list()) "
    }
   },
   "position": {
    "height": "330px",
    "left": "582px",
    "right": "20px",
    "top": "107px",
    "width": "667px"
   },
   "types_to_exclude": [
    "module",
    "function",
    "builtin_function_or_method",
    "instance",
    "_Feature"
   ],
   "window_display": false
  }
 },
 "nbformat": 4,
 "nbformat_minor": 2
}
