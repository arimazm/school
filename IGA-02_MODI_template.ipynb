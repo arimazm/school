{
 "cells": [
  {
   "cell_type": "markdown",
   "metadata": {},
   "source": [
    "# IGA-02. Motor Own Damage Insurance in Russia"
   ]
  },
  {
   "cell_type": "markdown",
   "metadata": {},
   "source": [
    "### Students\n",
    "\n",
    "- Dobrego Daria\n",
    "- Du Shaohui\n",
    "- Magomedova Zamira\n",
    "- Makarkina Irina\n"
   ]
  },
  {
   "cell_type": "markdown",
   "metadata": {},
   "source": [
    "### Problem setup\n",
    "\n",
    "*In this assignment you are asked to work with the **MODIpolicies** dataset to test the hypothesis of a positive influence of down-sampling on prediction performance of a classifier, specifically, multinomial logistic regression.\n",
    "The pseudo-code for completing the assignment is provided below.*"
   ]
  },
  {
   "cell_type": "code",
   "execution_count": 48,
   "metadata": {},
   "outputs": [],
   "source": [
    "# load packages\n",
    "import pandas as pd\n",
    "import numpy as np\n",
    "\n",
    "import statsmodels.api as sm\n",
    "import sklearn.metrics as sklm\n",
    "from sklearn.utils import resample\n",
    "\n",
    "from imblearn.under_sampling import RandomUnderSampler as RUS\n",
    "from sklearn.model_selection import train_test_split\n",
    "from sklearn.linear_model import LogisticRegression as LR\n",
    "from sklearn.metrics import classification_report"
   ]
  },
  {
   "cell_type": "code",
   "execution_count": 2,
   "metadata": {
    "scrolled": true
   },
   "outputs": [
    {
     "data": {
      "text/html": [
       "<div>\n",
       "<style scoped>\n",
       "    .dataframe tbody tr th:only-of-type {\n",
       "        vertical-align: middle;\n",
       "    }\n",
       "\n",
       "    .dataframe tbody tr th {\n",
       "        vertical-align: top;\n",
       "    }\n",
       "\n",
       "    .dataframe thead th {\n",
       "        text-align: right;\n",
       "    }\n",
       "</style>\n",
       "<table border=\"1\" class=\"dataframe\">\n",
       "  <thead>\n",
       "    <tr style=\"text-align: right;\">\n",
       "      <th></th>\n",
       "      <th>Claims</th>\n",
       "      <th>Franchise</th>\n",
       "      <th>Loan</th>\n",
       "      <th>CarAge</th>\n",
       "      <th>Experience</th>\n",
       "      <th>Gender</th>\n",
       "      <th>Class</th>\n",
       "    </tr>\n",
       "  </thead>\n",
       "  <tbody>\n",
       "    <tr>\n",
       "      <th>0</th>\n",
       "      <td>2</td>\n",
       "      <td>0</td>\n",
       "      <td>0</td>\n",
       "      <td>0</td>\n",
       "      <td>9</td>\n",
       "      <td>0</td>\n",
       "      <td>3</td>\n",
       "    </tr>\n",
       "    <tr>\n",
       "      <th>1</th>\n",
       "      <td>0</td>\n",
       "      <td>0</td>\n",
       "      <td>1</td>\n",
       "      <td>0</td>\n",
       "      <td>4</td>\n",
       "      <td>0</td>\n",
       "      <td>8</td>\n",
       "    </tr>\n",
       "    <tr>\n",
       "      <th>2</th>\n",
       "      <td>1</td>\n",
       "      <td>0</td>\n",
       "      <td>0</td>\n",
       "      <td>4</td>\n",
       "      <td>4</td>\n",
       "      <td>0</td>\n",
       "      <td>9</td>\n",
       "    </tr>\n",
       "    <tr>\n",
       "      <th>3</th>\n",
       "      <td>0</td>\n",
       "      <td>0</td>\n",
       "      <td>0</td>\n",
       "      <td>0</td>\n",
       "      <td>17</td>\n",
       "      <td>1</td>\n",
       "      <td>9</td>\n",
       "    </tr>\n",
       "    <tr>\n",
       "      <th>4</th>\n",
       "      <td>1</td>\n",
       "      <td>0</td>\n",
       "      <td>0</td>\n",
       "      <td>2</td>\n",
       "      <td>7</td>\n",
       "      <td>1</td>\n",
       "      <td>6</td>\n",
       "    </tr>\n",
       "  </tbody>\n",
       "</table>\n",
       "</div>"
      ],
      "text/plain": [
       "   Claims  Franchise  Loan  CarAge  Experience  Gender  Class\n",
       "0       2          0     0       0           9       0      3\n",
       "1       0          0     1       0           4       0      8\n",
       "2       1          0     0       4           4       0      9\n",
       "3       0          0     0       0          17       1      9\n",
       "4       1          0     0       2           7       1      6"
      ]
     },
     "execution_count": 2,
     "metadata": {},
     "output_type": "execute_result"
    }
   ],
   "source": [
    "# read the data from the MS Excel file\n",
    "data_modi = pd.read_excel('MODIpolicies.xlsx', 'data', index_col=None, na_values=['NA'])\n",
    "data_modi.head()"
   ]
  },
  {
   "cell_type": "code",
   "execution_count": 3,
   "metadata": {},
   "outputs": [],
   "source": [
    "# separate the outcome variable and the features\n",
    "X = data_modi.drop(\"Claims\", axis=1)\n",
    "y = data_modi[\"Claims\"]\n",
    "\n",
    "# split the sample into training (80%) and test (20%)\n",
    "# (!) do not change 'random_state=0'\n",
    "X_train, X_test, y_train, y_test = train_test_split(X, y, test_size = 0.2, random_state=0)\n"
   ]
  },
  {
   "cell_type": "markdown",
   "metadata": {},
   "source": [
    "### Task 1 (1 point).\n",
    "*Describe the ORIGINAL FULL data (any two aspects) and give brief comments.*"
   ]
  },
  {
   "cell_type": "code",
   "execution_count": 4,
   "metadata": {
    "scrolled": false
   },
   "outputs": [
    {
     "data": {
      "text/html": [
       "<div>\n",
       "<style scoped>\n",
       "    .dataframe tbody tr th:only-of-type {\n",
       "        vertical-align: middle;\n",
       "    }\n",
       "\n",
       "    .dataframe tbody tr th {\n",
       "        vertical-align: top;\n",
       "    }\n",
       "\n",
       "    .dataframe thead th {\n",
       "        text-align: right;\n",
       "    }\n",
       "</style>\n",
       "<table border=\"1\" class=\"dataframe\">\n",
       "  <thead>\n",
       "    <tr style=\"text-align: right;\">\n",
       "      <th></th>\n",
       "      <th>Claims</th>\n",
       "      <th>Franchise</th>\n",
       "      <th>Loan</th>\n",
       "      <th>CarAge</th>\n",
       "      <th>Experience</th>\n",
       "      <th>Gender</th>\n",
       "      <th>Class</th>\n",
       "    </tr>\n",
       "  </thead>\n",
       "  <tbody>\n",
       "    <tr>\n",
       "      <th>count</th>\n",
       "      <td>3720.000000</td>\n",
       "      <td>3720.000000</td>\n",
       "      <td>3720.000000</td>\n",
       "      <td>3720.000000</td>\n",
       "      <td>3720.000000</td>\n",
       "      <td>3720.000000</td>\n",
       "      <td>3720.000000</td>\n",
       "    </tr>\n",
       "    <tr>\n",
       "      <th>mean</th>\n",
       "      <td>0.253763</td>\n",
       "      <td>0.189247</td>\n",
       "      <td>0.125806</td>\n",
       "      <td>1.263978</td>\n",
       "      <td>9.658333</td>\n",
       "      <td>0.557796</td>\n",
       "      <td>5.149462</td>\n",
       "    </tr>\n",
       "    <tr>\n",
       "      <th>std</th>\n",
       "      <td>0.523307</td>\n",
       "      <td>0.684160</td>\n",
       "      <td>0.331676</td>\n",
       "      <td>1.581757</td>\n",
       "      <td>8.102376</td>\n",
       "      <td>0.496715</td>\n",
       "      <td>2.866338</td>\n",
       "    </tr>\n",
       "    <tr>\n",
       "      <th>min</th>\n",
       "      <td>0.000000</td>\n",
       "      <td>0.000000</td>\n",
       "      <td>0.000000</td>\n",
       "      <td>0.000000</td>\n",
       "      <td>0.000000</td>\n",
       "      <td>0.000000</td>\n",
       "      <td>1.000000</td>\n",
       "    </tr>\n",
       "    <tr>\n",
       "      <th>25%</th>\n",
       "      <td>0.000000</td>\n",
       "      <td>0.000000</td>\n",
       "      <td>0.000000</td>\n",
       "      <td>0.000000</td>\n",
       "      <td>4.000000</td>\n",
       "      <td>0.000000</td>\n",
       "      <td>3.000000</td>\n",
       "    </tr>\n",
       "    <tr>\n",
       "      <th>50%</th>\n",
       "      <td>0.000000</td>\n",
       "      <td>0.000000</td>\n",
       "      <td>0.000000</td>\n",
       "      <td>1.000000</td>\n",
       "      <td>8.000000</td>\n",
       "      <td>1.000000</td>\n",
       "      <td>4.000000</td>\n",
       "    </tr>\n",
       "    <tr>\n",
       "      <th>75%</th>\n",
       "      <td>0.000000</td>\n",
       "      <td>0.000000</td>\n",
       "      <td>0.000000</td>\n",
       "      <td>2.000000</td>\n",
       "      <td>13.000000</td>\n",
       "      <td>1.000000</td>\n",
       "      <td>9.000000</td>\n",
       "    </tr>\n",
       "    <tr>\n",
       "      <th>max</th>\n",
       "      <td>2.000000</td>\n",
       "      <td>4.000000</td>\n",
       "      <td>1.000000</td>\n",
       "      <td>7.000000</td>\n",
       "      <td>46.000000</td>\n",
       "      <td>1.000000</td>\n",
       "      <td>10.000000</td>\n",
       "    </tr>\n",
       "  </tbody>\n",
       "</table>\n",
       "</div>"
      ],
      "text/plain": [
       "            Claims    Franchise         Loan       CarAge   Experience  \\\n",
       "count  3720.000000  3720.000000  3720.000000  3720.000000  3720.000000   \n",
       "mean      0.253763     0.189247     0.125806     1.263978     9.658333   \n",
       "std       0.523307     0.684160     0.331676     1.581757     8.102376   \n",
       "min       0.000000     0.000000     0.000000     0.000000     0.000000   \n",
       "25%       0.000000     0.000000     0.000000     0.000000     4.000000   \n",
       "50%       0.000000     0.000000     0.000000     1.000000     8.000000   \n",
       "75%       0.000000     0.000000     0.000000     2.000000    13.000000   \n",
       "max       2.000000     4.000000     1.000000     7.000000    46.000000   \n",
       "\n",
       "            Gender        Class  \n",
       "count  3720.000000  3720.000000  \n",
       "mean      0.557796     5.149462  \n",
       "std       0.496715     2.866338  \n",
       "min       0.000000     1.000000  \n",
       "25%       0.000000     3.000000  \n",
       "50%       1.000000     4.000000  \n",
       "75%       1.000000     9.000000  \n",
       "max       1.000000    10.000000  "
      ]
     },
     "execution_count": 4,
     "metadata": {},
     "output_type": "execute_result"
    }
   ],
   "source": [
    "# data description\n",
    "data_modi.describe()"
   ]
  },
  {
   "cell_type": "code",
   "execution_count": 32,
   "metadata": {},
   "outputs": [
    {
     "data": {
      "text/plain": [
       "0    2933\n",
       "1     630\n",
       "2     157\n",
       "Name: Claims, dtype: int64"
      ]
     },
     "execution_count": 32,
     "metadata": {},
     "output_type": "execute_result"
    }
   ],
   "source": [
    "data_modi[\"Claims\"].value_counts()"
   ]
  },
  {
   "cell_type": "markdown",
   "metadata": {},
   "source": [
    "#### Give your comments in this chunk\n",
    "\n",
    "*Consideration 1*:\n",
    "We probably have outliers in the experience variable, seeing as 75% of the sample has the experience of 13 years and less, and the maximum experience is of 46 years. We assume that it is a right skewed distribution.\n",
    "\n",
    "*Consideration 2*:\n",
    "No missing values in the dataset. Also, we have almost equal proportion of male to female observations, which means that dataset is representative at least in regards to that var. \n",
    "\n",
    "#We also assume that most people want to have insurance in advance because up to 75th percentile the claim is 0."
   ]
  },
  {
   "cell_type": "markdown",
   "metadata": {},
   "source": [
    "### Task 2 (1 point).\n",
    "*Estimate a multinomial logistic regression on the training sample and construct a classification report. Give a brief comment on the obtained classification results (specify any two principal considerations).*"
   ]
  },
  {
   "cell_type": "code",
   "execution_count": 29,
   "metadata": {
    "scrolled": true
   },
   "outputs": [
    {
     "name": "stdout",
     "output_type": "stream",
     "text": [
      "              precision    recall  f1-score   support\n",
      "\n",
      "           0       0.78      1.00      0.88       582\n",
      "           1       0.00      0.00      0.00       133\n",
      "           2       0.00      0.00      0.00        29\n",
      "\n",
      "    accuracy                           0.78       744\n",
      "   macro avg       0.26      0.33      0.29       744\n",
      "weighted avg       0.61      0.78      0.69       744\n",
      "\n"
     ]
    },
    {
     "name": "stderr",
     "output_type": "stream",
     "text": [
      "/Users/useruser/anaconda3/lib/python3.7/site-packages/sklearn/linear_model/logistic.py:469: FutureWarning: Default multi_class will be changed to 'auto' in 0.22. Specify the multi_class option to silence this warning.\n",
      "  \"this warning.\", FutureWarning)\n",
      "/Users/useruser/anaconda3/lib/python3.7/site-packages/sklearn/metrics/classification.py:1437: UndefinedMetricWarning: Precision and F-score are ill-defined and being set to 0.0 in labels with no predicted samples.\n",
      "  'precision', 'predicted', average, warn_for)\n"
     ]
    }
   ],
   "source": [
    "# estimate MLR on the training sample    \n",
    "# function to create regression & print matrix\n",
    "def myLR(X_tr, y_tr, cutoff=0.5):\n",
    "\n",
    "    LRmodel = LR(random_state=0, solver='lbfgs', max_iter=1000000).fit(X_tr, y_tr)\n",
    "    y_test_pred_probs = LRmodel.predict_proba(X_test)\n",
    "    y_test_pred_classes = np.array([(y_test_pred_probs[i][1]>cutoff).astype(int) for i in range(len(X_test))])\n",
    "    print(classification_report(y_true=y_test, y_pred = y_test_pred_classes))\n",
    "\n",
    "myLR(X_train, y_train, cutoff=0.5)\n",
    "# predict the outcomes on the test sample\n",
    "# construct a classification report\n"
   ]
  },
  {
   "cell_type": "markdown",
   "metadata": {},
   "source": [
    "#### Give your comments in this chunk\n",
    "\n",
    "*Consideration 1:* class 0 is predicted perfectly all other classes were not predicted presumably due to sample imbalance\n",
    "\n",
    "*Consideration 2:* accuracy is relatively not bad 78%, however recalls and precision data is not representative\n"
   ]
  },
  {
   "cell_type": "markdown",
   "metadata": {},
   "source": [
    "### Task 3 (2 points).\n",
    "*Set random seed to **1234** and RANDOMLY downsample (without replacement) Class0 in the training sample to **500** observations. Estimate a multinomial logistic regression on the obtained (down-sampled) training sample, predict on the ORIGINAL test sample, and construct a classification report.*"
   ]
  },
  {
   "cell_type": "code",
   "execution_count": 60,
   "metadata": {},
   "outputs": [
    {
     "data": {
      "text/plain": [
       "1    630\n",
       "0    500\n",
       "2    157\n",
       "Name: Claims, dtype: int64"
      ]
     },
     "execution_count": 60,
     "metadata": {},
     "output_type": "execute_result"
    }
   ],
   "source": [
    "### DOWNSAMPLING ###\n",
    "    \n",
    "# extract Class0\n",
    "dm_class0 = data_modi[data_modi['Claims']==0]\n",
    "# extract classes 1 and 2\n",
    "dm_class1 = data_modi[data_modi['Claims']==1]\n",
    "dm_class2 = data_modi[data_modi['Claims']==2]\n",
    "\n",
    "# downsampling: get the indices and change X_train and y_train for class0\n",
    "dm_class0_downsampled = resample(dm_class0, replace=False, n_samples=500, random_state=1234)\n",
    "\n",
    "#combine the final downsampled sample with the others\n",
    "dm_downsampled = pd.concat([dm_class0_downsampled, dm_class1, dm_class2])\n",
    "dm_downsampled['Claims'].value_counts()\n",
    "# we will use function resample from sklearn utils\n",
    "# which allows to resample arrays\n",
    " \n",
    "# downsampling: get the indices and change X_train and y_train for class0\n",
    "# we downsample class of 0 = dm_class0"
   ]
  },
  {
   "cell_type": "code",
   "execution_count": 64,
   "metadata": {
    "scrolled": true
   },
   "outputs": [
    {
     "name": "stdout",
     "output_type": "stream",
     "text": [
      "              precision    recall  f1-score   support\n",
      "\n",
      "           0       0.80      0.57      0.67       582\n",
      "           1       0.19      0.47      0.27       133\n",
      "           2       0.00      0.00      0.00        29\n",
      "\n",
      "    accuracy                           0.53       744\n",
      "   macro avg       0.33      0.35      0.31       744\n",
      "weighted avg       0.66      0.53      0.57       744\n",
      "\n",
      "              precision    recall  f1-score   support\n",
      "\n",
      "           0       0.78      1.00      0.88       582\n",
      "           1       0.00      0.00      0.00       133\n",
      "           2       0.00      0.00      0.00        29\n",
      "\n",
      "    accuracy                           0.78       744\n",
      "   macro avg       0.26      0.33      0.29       744\n",
      "weighted avg       0.61      0.78      0.69       744\n",
      "\n"
     ]
    },
    {
     "name": "stderr",
     "output_type": "stream",
     "text": [
      "/Users/useruser/anaconda3/lib/python3.7/site-packages/sklearn/linear_model/logistic.py:469: FutureWarning: Default multi_class will be changed to 'auto' in 0.22. Specify the multi_class option to silence this warning.\n",
      "  \"this warning.\", FutureWarning)\n",
      "/Users/useruser/anaconda3/lib/python3.7/site-packages/sklearn/metrics/classification.py:1437: UndefinedMetricWarning: Precision and F-score are ill-defined and being set to 0.0 in labels with no predicted samples.\n",
      "  'precision', 'predicted', average, warn_for)\n",
      "/Users/useruser/anaconda3/lib/python3.7/site-packages/sklearn/linear_model/logistic.py:469: FutureWarning: Default multi_class will be changed to 'auto' in 0.22. Specify the multi_class option to silence this warning.\n",
      "  \"this warning.\", FutureWarning)\n",
      "/Users/useruser/anaconda3/lib/python3.7/site-packages/sklearn/metrics/classification.py:1437: UndefinedMetricWarning: Precision and F-score are ill-defined and being set to 0.0 in labels with no predicted samples.\n",
      "  'precision', 'predicted', average, warn_for)\n"
     ]
    },
    {
     "ename": "AttributeError",
     "evalue": "'NoneType' object has no attribute 'predict'",
     "output_type": "error",
     "traceback": [
      "\u001b[0;31m---------------------------------------------------------------------------\u001b[0m",
      "\u001b[0;31mAttributeError\u001b[0m                            Traceback (most recent call last)",
      "\u001b[0;32m<ipython-input-64-342aff61a4dc>\u001b[0m in \u001b[0;36m<module>\u001b[0;34m\u001b[0m\n\u001b[1;32m      7\u001b[0m \u001b[0;31m# predict the outcomes on the original test sample\u001b[0m\u001b[0;34m\u001b[0m\u001b[0;34m\u001b[0m\u001b[0;34m\u001b[0m\u001b[0m\n\u001b[1;32m      8\u001b[0m \u001b[0mz\u001b[0m \u001b[0;34m=\u001b[0m \u001b[0mmyLR\u001b[0m\u001b[0;34m(\u001b[0m\u001b[0mX_test\u001b[0m\u001b[0;34m,\u001b[0m \u001b[0my_test\u001b[0m\u001b[0;34m,\u001b[0m \u001b[0mcutoff\u001b[0m\u001b[0;34m=\u001b[0m\u001b[0;36m0.5\u001b[0m\u001b[0;34m)\u001b[0m\u001b[0;34m\u001b[0m\u001b[0;34m\u001b[0m\u001b[0m\n\u001b[0;32m----> 9\u001b[0;31m \u001b[0my_test_pred\u001b[0m \u001b[0;34m=\u001b[0m \u001b[0mz\u001b[0m\u001b[0;34m.\u001b[0m\u001b[0mpredict\u001b[0m\u001b[0;34m(\u001b[0m\u001b[0mX_test\u001b[0m\u001b[0;34m)\u001b[0m\u001b[0;34m\u001b[0m\u001b[0;34m\u001b[0m\u001b[0m\n\u001b[0m\u001b[1;32m     10\u001b[0m \u001b[0;34m\u001b[0m\u001b[0m\n\u001b[1;32m     11\u001b[0m \u001b[0;31m# construct a classification report\u001b[0m\u001b[0;34m\u001b[0m\u001b[0;34m\u001b[0m\u001b[0;34m\u001b[0m\u001b[0m\n",
      "\u001b[0;31mAttributeError\u001b[0m: 'NoneType' object has no attribute 'predict'"
     ]
    }
   ],
   "source": [
    "# estimate MLR on the down-sampled training sample \n",
    "y = dm_downsampled[\"Claims\"]\n",
    "X = dm_downsampled.drop('Claims', axis=1)\n",
    "\n",
    "myLR(X, y, cutoff=0.5)\n",
    "\n",
    "# predict the outcomes on the original test sample\n",
    "z = myLR(X_test, y_test, cutoff=0.5)\n",
    "y_test_pred = z.predict(X_test)\n",
    "\n",
    "# construct a classification report\n"
   ]
  },
  {
   "cell_type": "markdown",
   "metadata": {},
   "source": [
    "### Task 4 (1 point).\n",
    "*Compare the results of classification on the original and the down-sampled samples. Provide any **two** considerations.*"
   ]
  },
  {
   "cell_type": "markdown",
   "metadata": {},
   "source": [
    "#### Give your comments in this chunk\n",
    "\n",
    "*Consideration 1*:\n",
    "\n",
    "*Consideration 2*:\n"
   ]
  }
 ],
 "metadata": {
  "kernelspec": {
   "display_name": "Python 3",
   "language": "python",
   "name": "python3"
  },
  "language_info": {
   "codemirror_mode": {
    "name": "ipython",
    "version": 3
   },
   "file_extension": ".py",
   "mimetype": "text/x-python",
   "name": "python",
   "nbconvert_exporter": "python",
   "pygments_lexer": "ipython3",
   "version": "3.7.3"
  },
  "varInspector": {
   "cols": {
    "lenName": 16,
    "lenType": 16,
    "lenVar": 40
   },
   "kernels_config": {
    "python": {
     "delete_cmd_postfix": "",
     "delete_cmd_prefix": "del ",
     "library": "var_list.py",
     "varRefreshCmd": "print(var_dic_list())"
    },
    "r": {
     "delete_cmd_postfix": ") ",
     "delete_cmd_prefix": "rm(",
     "library": "var_list.r",
     "varRefreshCmd": "cat(var_dic_list()) "
    }
   },
   "oldHeight": 273,
   "position": {
    "height": "295px",
    "left": "954.983px",
    "right": "20px",
    "top": "64.9688px",
    "width": "350px"
   },
   "types_to_exclude": [
    "module",
    "function",
    "builtin_function_or_method",
    "instance",
    "_Feature"
   ],
   "varInspector_section_display": "block",
   "window_display": false
  }
 },
 "nbformat": 4,
 "nbformat_minor": 2
}
