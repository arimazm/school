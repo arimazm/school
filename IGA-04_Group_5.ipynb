{
 "cells": [
  {
   "cell_type": "markdown",
   "metadata": {},
   "source": [
    "# IGA-04. Biasedness of the variance estimator"
   ]
  },
  {
   "cell_type": "markdown",
   "metadata": {},
   "source": [
    "**Students**\n",
    "- Magomedova Zamira\n",
    "- Prorok Ilya\n",
    "- Versotskaya Nataliya\n",
    "- Vlasova Natalia\n"
   ]
  },
  {
   "cell_type": "markdown",
   "metadata": {},
   "source": [
    "## Setup of the problem\n",
    "\n",
    "In this IGA you are asked to design and implement a **Monte-Carlo experiment**. Specifically, you need to prove that for small samples (no more than 10 observations) it is indeed better to use the unbiased formula for variance estimation. Prove it by running simulations for the both formulas given below, and then compare the results.\n",
    "\n",
    "$s^2_{biased}=\\frac{1}{n} \\sum_{i=1}^n (x_i - \\bar x)^2 $\n",
    "\n",
    "$s^2_{unbiased}=\\frac{1}{n-1} \\sum_{i=1}^n (x_i - \\bar x)^2 $\n",
    "\n",
    "\n",
    "**Important!** In the MC-experiment, draw random variables from a **normal** distribution (with arbitrarily chosen mean (loc) and standard deviation (scale)).\n",
    "\n",
    "As a result, provide the graphical illustration of your results of the following kind:\n",
    "\n",
    "![VarBias1](var_bias.png)\n",
    "\n"
   ]
  },
  {
   "cell_type": "code",
   "execution_count": 1,
   "metadata": {
    "scrolled": true
   },
   "outputs": [],
   "source": [
    "# loading the necessary libraries\n",
    "import numpy as np\n",
    "import scipy.stats as stats\n",
    "import matplotlib.pyplot as plt\n",
    "import pandas as pd"
   ]
  },
  {
   "cell_type": "markdown",
   "metadata": {},
   "source": [
    "## Task 1. (2 points)\n",
    "**Program your own function and use it to run the above-described MC-experiment.**"
   ]
  },
  {
   "cell_type": "code",
   "execution_count": 2,
   "metadata": {},
   "outputs": [],
   "source": [
    "# provide the function code in this chunk\n",
    "def var_est_N(mean=0, stdev=10, s_size=10, MCruns=500):\n",
    "\n",
    "    biased = []\n",
    "    unbiased = []\n",
    "\n",
    "    for i in range(MCruns):\n",
    "\n",
    "        ### STEP 1. Nature acts and generates a small sample\n",
    "        d1 = np.random.normal(loc=mean, scale=stdev, size=s_size)\n",
    "\n",
    "        ### STEP 2. Researcher acts and calculates the two estimates of variance\n",
    "        biased_var = np.var(d1)\n",
    "        unbiased_var = s_size/(s_size-1)*biased_var # S(unbsd) = n * S(bsd) / (n-1)\n",
    "\n",
    "        ### STEP 3: store the results\n",
    "        biased.extend([biased_var])\n",
    "        unbiased.extend([unbiased_var])\n",
    "\n",
    "    ### return the results\n",
    "    return (biased, unbiased)\n",
    "    "
   ]
  },
  {
   "cell_type": "code",
   "execution_count": 3,
   "metadata": {},
   "outputs": [],
   "source": [
    "# use the function to obtain results of the MC-experiment\n",
    "bsd, unbsd = var_est_N()"
   ]
  },
  {
   "cell_type": "markdown",
   "metadata": {},
   "source": [
    "## Task 2. (1.5 points)\n",
    "\n",
    "**Construct a histogram of the obtained results - you should reconstruct the above-given graph in details.**"
   ]
  },
  {
   "cell_type": "code",
   "execution_count": 4,
   "metadata": {
    "scrolled": false
   },
   "outputs": [
    {
     "data": {
      "image/png": "[encoded data removed]",
      "text/plain": [
       "<Figure size 432x288 with 1 Axes>"
      ]
     },
     "metadata": {
      "needs_background": "light"
     },
     "output_type": "display_data"
    }
   ],
   "source": [
    "# construct a histogram of the simulated trials\n",
    "\n",
    "# transform the np-array into a pandas series\n",
    "bsd_pd = pd.Series(bsd)\n",
    "unbsd_pd = pd.Series(unbsd)\n",
    "\n",
    "# making a histogram\n",
    "bsd_pd.plot.hist(grid=True, rwidth=0.9, color='blue', label=\"Biased Variance\")\n",
    "unbsd_pd.plot.hist(grid=True, rwidth=0.9, color='aqua', label=\"Unbiased Variance\")\n",
    "\n",
    "# adding a line for the 'true' mean\n",
    "plt.axvline(x=np.mean(bsd), color=\"yellow\", linewidth=5, label=\"Average of biased Variance\")\n",
    "plt.axvline(x=np.mean(unbsd), color=\"red\", linewidth=5, label=\"Average of unbiased Variance\")\n",
    "\n",
    "# adding labels and lines\n",
    "plt.title('Histograms for the biased and unbiased estimates of variance')\n",
    "plt.xlabel('Values of variances')\n",
    "plt.ylabel('Frequencies')\n",
    "plt.grid(axis='y', alpha=0.75)\n",
    "\n",
    "plt.legend()\n",
    "plt.show()"
   ]
  },
  {
   "cell_type": "markdown",
   "metadata": {},
   "source": [
    "## Task 3. (0.5 points)\n",
    "**Explicitly calculate the averages of the two obtained distributions, compare them statistically using the t-test, and give a brief comment on the obtained results.**"
   ]
  },
  {
   "cell_type": "code",
   "execution_count": 5,
   "metadata": {
    "scrolled": true
   },
   "outputs": [
    {
     "name": "stdout",
     "output_type": "stream",
     "text": [
      "90.12781627239666\n",
      "100.14201808044075\n"
     ]
    }
   ],
   "source": [
    "# print out the two average values\n",
    "print(np.mean(bsd))\n",
    "print(np.mean(unbsd))"
   ]
  },
  {
   "cell_type": "code",
   "execution_count": 6,
   "metadata": {
    "scrolled": true
   },
   "outputs": [
    {
     "name": "stdout",
     "output_type": "stream",
     "text": [
      "H0: Exp.value(bsd) = Exp.value(unbsd)\n",
      "H1: Exp.value(bsd) != Exp.value(unbsd)\n",
      "Two-sample t-statistic =  -3.654\n",
      "Two-sample p-value =  0.0\n"
     ]
    }
   ],
   "source": [
    "# compare the two average values with the t-test (give the test statistic and the p-value)\n",
    "t_twoind, pVal_twoind = stats.ttest_ind(bsd, unbsd)\n",
    "\n",
    "print(\"H0: Exp.value(bsd) = Exp.value(unbsd)\") # i.e. Sd(biased) = Sd(unbiased)\n",
    "print(\"H1: Exp.value(bsd) != Exp.value(unbsd)\") \n",
    "print(\"Two-sample t-statistic = \", round(t_twoind,3))\n",
    "print(\"Two-sample p-value = \", round(pVal_twoind,3))\n"
   ]
  },
  {
   "cell_type": "code",
   "execution_count": 7,
   "metadata": {},
   "outputs": [
    {
     "name": "stdout",
     "output_type": "stream",
     "text": [
      "One-sample t-statistic =  -5.385\n",
      "One-sample p-value =  0.0\n"
     ]
    }
   ],
   "source": [
    "\n",
    "t_one, pVal_one = stats.ttest_1samp(bsd, 100)\n",
    "\n",
    "print(\"One-sample t-statistic = \", round(t_one,3))\n",
    "print(\"One-sample p-value = \", round(pVal_one,3))"
   ]
  },
  {
   "cell_type": "code",
   "execution_count": 8,
   "metadata": {},
   "outputs": [
    {
     "name": "stdout",
     "output_type": "stream",
     "text": [
      "One-sample t-statistic =  0.07\n",
      "One-sample p-value =  0.944\n"
     ]
    }
   ],
   "source": [
    "t_one, pVal_one = stats.ttest_1samp(unbsd, 100)\n",
    "\n",
    "print(\"One-sample t-statistic = \", round(t_one,3))\n",
    "print(\"One-sample p-value = \", round(pVal_one,3))"
   ]
  },
  {
   "cell_type": "markdown",
   "metadata": {},
   "source": [
    "**Comments**\n",
    "\n",
    "<br>As the obtained p-value is smaller than 5%, we reject the null hypothesis. Thus, the difference between means of two samples is statistically significant, which means that biased and unbiased variance give different results for sample of small sizes."
   ]
  }
 ],
 "metadata": {
  "kernelspec": {
   "display_name": "Python 3",
   "language": "python",
   "name": "python3"
  },
  "language_info": {
   "codemirror_mode": {
    "name": "ipython",
    "version": 3
   },
   "file_extension": ".py",
   "mimetype": "text/x-python",
   "name": "python",
   "nbconvert_exporter": "python",
   "pygments_lexer": "ipython3",
   "version": "3.7.3"
  },
  "varInspector": {
   "cols": {
    "lenName": 16,
    "lenType": 16,
    "lenVar": 40
   },
   "kernels_config": {
    "python": {
     "delete_cmd_postfix": "",
     "delete_cmd_prefix": "del ",
     "library": "var_list.py",
     "varRefreshCmd": "print(var_dic_list())"
    },
    "r": {
     "delete_cmd_postfix": ") ",
     "delete_cmd_prefix": "rm(",
     "library": "var_list.r",
     "varRefreshCmd": "cat(var_dic_list()) "
    }
   },
   "position": {
    "height": "475px",
    "left": "757px",
    "right": "20px",
    "top": "126px",
    "width": "686px"
   },
   "types_to_exclude": [
    "module",
    "function",
    "builtin_function_or_method",
    "instance",
    "_Feature"
   ],
   "window_display": false
  }
 },
 "nbformat": 4,
 "nbformat_minor": 2
}
