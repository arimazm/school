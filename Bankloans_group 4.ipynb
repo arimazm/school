{
 "cells": [
  {
   "cell_type": "markdown",
   "metadata": {},
   "source": [
    "# IGA-03. The Bankloans dataset"
   ]
  },
  {
   "cell_type": "markdown",
   "metadata": {},
   "source": [
    "**Setup**: In this IGA you are asked to work with the *bankloans.xlsx* file (see the case-study discussion from the lecture). Each group works with its own indicator of **default on loans**. \n",
    "\n",
    "+ Group 1: debtinc\n",
    "+ Group 2: educ\n",
    "+ Group 3: othdebt\n",
    "+ Group 4: address\n",
    "+ Group 5: creddebt\n",
    "\n",
    "Split the values of your indicator into **two** groups: one with **default = 0** and the other with **default = 1**.\n",
    "Use the **5% level of significance** for statistical inference.\n"
   ]
  },
  {
   "cell_type": "code",
   "execution_count": 1,
   "metadata": {},
   "outputs": [],
   "source": [
    "# importing necessary packages\n",
    "import pandas as pd\n",
    "import numpy as np\n",
    "import matplotlib.pyplot as plt\n",
    "import scipy.stats as stats #statistical functions\n",
    "import os \n",
    "from statsmodels.graphics.gofplots import qqplot"
   ]
  },
  {
   "cell_type": "code",
   "execution_count": 2,
   "metadata": {},
   "outputs": [],
   "source": [
    "# [import the data here]\n",
    "df_loans = pd.read_excel('bankloans.xlsx', 'bankloans', index_col=None, na_values=['NA'])"
   ]
  },
  {
   "cell_type": "markdown",
   "metadata": {},
   "source": [
    "### Task 1. (1 point)\n",
    "\n",
    "In the chunk below, give a brief economic explanation (no more than 100 words) on the expected influence of your indicator on the **default** variable."
   ]
  },
  {
   "cell_type": "markdown",
   "metadata": {},
   "source": [
    "**ANSWER:**\n",
    "<br>We expect that the clients with bigger number of years spent living at one address are less likely to default on loan, because they can afford the stability of living at one house for years, so they probably have the means to pay the loan."
   ]
  },
  {
   "cell_type": "markdown",
   "metadata": {},
   "source": [
    "### Task 2. (1.5 points). \n",
    "+ Construct a histogram for your indicator on the **whole** sample\n",
    "+ To study its shape, run the appropriate skewness and normality tests.\n",
    "+ Make specific conclusions."
   ]
  },
  {
   "cell_type": "code",
   "execution_count": 3,
   "metadata": {},
   "outputs": [],
   "source": [
    "def myhist(x, b, label=None): #the function for building histograms\n",
    "    x.plot.hist(grid=True, bins=b, rwidth=0.9, color='blue')\n",
    "    plt.title('Histogram for ' + label)\n",
    "    plt.xlabel('Years spent living at the same address')\n",
    "    plt.ylabel('Number of observations')\n",
    "    plt.show()"
   ]
  },
  {
   "cell_type": "code",
   "execution_count": 4,
   "metadata": {},
   "outputs": [
    {
     "data": {
      "image/png": "[encoded data removed]",
      "text/plain": [
       "<Figure size 432x288 with 1 Axes>"
      ]
     },
     "metadata": {
      "needs_background": "light"
     },
     "output_type": "display_data"
    }
   ],
   "source": [
    "D_pd = pd.Series(df_loans['address']) \n",
    "myhist(D_pd, 9, 'address') #the nubmer of bins was chosen through trial and error, and we decided to stop at 9\n",
    "# because bigger numbers make it seem multimodal"
   ]
  },
  {
   "cell_type": "code",
   "execution_count": 5,
   "metadata": {},
   "outputs": [],
   "source": [
    "def mySKtest(x): #function for skewness test\n",
    "    coefSK, pvSK = stats.skewtest(x)\n",
    "    print(\"H0: Sk = 0\")\n",
    "    print(\"Skewness test statistic = \", round(coefSK,3))\n",
    "    print(\"Skewness p-value = \", round(pvSK,3))"
   ]
  },
  {
   "cell_type": "code",
   "execution_count": 6,
   "metadata": {},
   "outputs": [
    {
     "name": "stdout",
     "output_type": "stream",
     "text": [
      "H0: Sk = 0\n",
      "Skewness test statistic =  8.776\n",
      "Skewness p-value =  0.0\n"
     ]
    }
   ],
   "source": [
    "mySKtest(D_pd)"
   ]
  },
  {
   "cell_type": "code",
   "execution_count": 7,
   "metadata": {},
   "outputs": [],
   "source": [
    "def myNpVals(x):\n",
    "    NpVals = pd.Series()\n",
    "\n",
    "    _, NpVals['DAgostino'] = stats.normaltest(x)\n",
    "    _, NpVals['Shapiro-Wilk'] = stats.shapiro(x)\n",
    "    toprint = NpVals.round(3) #we rounded the numbers in the series, because without this the number was illegible\n",
    "    print('p-values for {0} data points:'.format(len(x)))\n",
    "    print(toprint)"
   ]
  },
  {
   "cell_type": "code",
   "execution_count": 8,
   "metadata": {},
   "outputs": [
    {
     "name": "stdout",
     "output_type": "stream",
     "text": [
      "p-values for 700 data points:\n",
      "DAgostino       0.0\n",
      "Shapiro-Wilk    0.0\n",
      "dtype: float64\n"
     ]
    }
   ],
   "source": [
    "myNpVals(D_pd)"
   ]
  },
  {
   "cell_type": "markdown",
   "metadata": {},
   "source": [
    "<br>**Skewness:**\n",
    "<br>The histogram shows that the distibution is right-skewed. <br>*H0*: skewness = 0; <br>*H1*: skewness > 0. <br>The p-value is 0%, which is less than 5%, so we reject H0, and the *conclusion* is that the distribution is right-skewed.<br>\n",
    "<br>**Normality**:\n",
    "<br>The histogram shows that the distribution is asymmetric, so we do not expect it to be normal. <br>*H0*: distribution is normal; <br>*H1*: distribution is not normal. <br>The p-value for both normality tests is extremely small, so it's less than 5% and we must reject H0. <br>The *conclusion* is that the distribution is not normal."
   ]
  },
  {
   "cell_type": "markdown",
   "metadata": {},
   "source": [
    "### Task 3. (1.5 points)\n",
    "\n",
    "+ By running the appropriate statistical test, compare the mean values of the **two** groups.\n",
    "+ Draw conclusions on *potential* usefulness of your indicator for explaining the probability of default on a loan. "
   ]
  },
  {
   "cell_type": "code",
   "execution_count": 9,
   "metadata": {
    "scrolled": true
   },
   "outputs": [],
   "source": [
    "# dividing the sample into two groups, one where default = 0, and the other one - default = 1\n",
    "No_default = pd.Series(df_loans.query('default==0')['address'])\n",
    "Yes_default = pd.Series(df_loans.query('default==1')['address'])"
   ]
  },
  {
   "cell_type": "code",
   "execution_count": 10,
   "metadata": {},
   "outputs": [
    {
     "name": "stdout",
     "output_type": "stream",
     "text": [
      "Two-sample t-statistic =  4.405\n",
      "Two-sample p-value =  0.0\n"
     ]
    }
   ],
   "source": [
    "t_twodefaults, pVal_twodefaults = stats.ttest_ind(No_default, Yes_default) \n",
    "#running statistical tests for comparing mean values\n",
    "\n",
    "print(\"Two-sample t-statistic = \", round(t_twodefaults,3))\n",
    "print(\"Two-sample p-value = \", round(pVal_twodefaults,3))"
   ]
  },
  {
   "cell_type": "markdown",
   "metadata": {},
   "source": [
    "<br>*H0*: mean values are not significantly different; \n",
    "<br>*H1*: mean values are significantly different.\n",
    "<br> P-value is 0%, less than 5%, so we must reject H0. *The conclusion* is that mean values for two groups are significantly different.\n",
    "<br>As the test shows that the difference between expected values is significant, we can assume that the number of years spent living in one place may somehow affect the probability of the default on loan."
   ]
  }
 ],
 "metadata": {
  "kernelspec": {
   "display_name": "Python 3",
   "language": "python",
   "name": "python3"
  },
  "language_info": {
   "codemirror_mode": {
    "name": "ipython",
    "version": 3
   },
   "file_extension": ".py",
   "mimetype": "text/x-python",
   "name": "python",
   "nbconvert_exporter": "python",
   "pygments_lexer": "ipython3",
   "version": "3.7.3"
  },
  "varInspector": {
   "cols": {
    "lenName": 16,
    "lenType": 16,
    "lenVar": 40
   },
   "kernels_config": {
    "python": {
     "delete_cmd_postfix": "",
     "delete_cmd_prefix": "del ",
     "library": "var_list.py",
     "varRefreshCmd": "print(var_dic_list())"
    },
    "r": {
     "delete_cmd_postfix": ") ",
     "delete_cmd_prefix": "rm(",
     "library": "var_list.r",
     "varRefreshCmd": "cat(var_dic_list()) "
    }
   },
   "types_to_exclude": [
    "module",
    "function",
    "builtin_function_or_method",
    "instance",
    "_Feature"
   ],
   "window_display": false
  }
 },
 "nbformat": 4,
 "nbformat_minor": 2
}
