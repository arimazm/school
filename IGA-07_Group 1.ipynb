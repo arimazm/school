{
 "cells": [
  {
   "cell_type": "markdown",
   "metadata": {},
   "source": [
    "# IGA-07. Linear regression analysis"
   ]
  },
  {
   "cell_type": "markdown",
   "metadata": {},
   "source": [
    "**Students**\n",
    "- Magomedova Zamira\n",
    "- Makarkina Irina\n",
    "- Markov Danil\n",
    "- Tanco Aguas Vicente\n"
   ]
  },
  {
   "cell_type": "markdown",
   "metadata": {},
   "source": [
    "## Setup of the problem\n",
    "\n",
    "In this IGA you are asked to run a pair-wise linear regression analysis.\n",
    "\n",
    "The attached file **RD_Sales.xlsx** contains the data on research and development expenditures (**rd**, dependent variable) and sales (**sales**, independent variable) for 18 industry groupings (variable industry) in the United States (all figures are in millions of dollars). \n",
    "\n",
    "Use the **5% level of significance** for statistical inference.\n"
   ]
  },
  {
   "cell_type": "code",
   "execution_count": 1,
   "metadata": {
    "scrolled": true
   },
   "outputs": [],
   "source": [
    "# load the necessary libraries\n",
    "import numpy as np\n",
    "import pandas as pd\n",
    "import matplotlib.pyplot as plt\n",
    "\n",
    "# packages for statistical analysis \n",
    "import scipy.stats as stats\n",
    "import statsmodels.api as sm\n",
    "import statsmodels.stats.api as sms\n",
    "import statsmodels.tsa.api as smt\n",
    "from statsmodels.graphics.gofplots import qqplot\n",
    "from statsmodels.stats.outliers_influence import reset_ramsey\n",
    "from statsmodels.stats.outliers_influence import variance_inflation_factor"
   ]
  },
  {
   "cell_type": "code",
   "execution_count": 2,
   "metadata": {},
   "outputs": [
    {
     "data": {
      "text/html": [
       "<div>\n",
       "<style scoped>\n",
       "    .dataframe tbody tr th:only-of-type {\n",
       "        vertical-align: middle;\n",
       "    }\n",
       "\n",
       "    .dataframe tbody tr th {\n",
       "        vertical-align: top;\n",
       "    }\n",
       "\n",
       "    .dataframe thead th {\n",
       "        text-align: right;\n",
       "    }\n",
       "</style>\n",
       "<table border=\"1\" class=\"dataframe\">\n",
       "  <thead>\n",
       "    <tr style=\"text-align: right;\">\n",
       "      <th></th>\n",
       "      <th>industry</th>\n",
       "      <th>rd</th>\n",
       "      <th>sales</th>\n",
       "    </tr>\n",
       "  </thead>\n",
       "  <tbody>\n",
       "    <tr>\n",
       "      <th>0</th>\n",
       "      <td>Packaging</td>\n",
       "      <td>62.5</td>\n",
       "      <td>6375.3</td>\n",
       "    </tr>\n",
       "    <tr>\n",
       "      <th>1</th>\n",
       "      <td>Non-bank financial</td>\n",
       "      <td>92.9</td>\n",
       "      <td>11626.4</td>\n",
       "    </tr>\n",
       "    <tr>\n",
       "      <th>2</th>\n",
       "      <td>Service</td>\n",
       "      <td>178.3</td>\n",
       "      <td>14655.1</td>\n",
       "    </tr>\n",
       "    <tr>\n",
       "      <th>3</th>\n",
       "      <td>Metals</td>\n",
       "      <td>258.4</td>\n",
       "      <td>21869.2</td>\n",
       "    </tr>\n",
       "    <tr>\n",
       "      <th>4</th>\n",
       "      <td>Construction</td>\n",
       "      <td>494.7</td>\n",
       "      <td>26408.3</td>\n",
       "    </tr>\n",
       "  </tbody>\n",
       "</table>\n",
       "</div>"
      ],
      "text/plain": [
       "             industry     rd    sales\n",
       "0           Packaging   62.5   6375.3\n",
       "1  Non-bank financial   92.9  11626.4\n",
       "2             Service  178.3  14655.1\n",
       "3              Metals  258.4  21869.2\n",
       "4        Construction  494.7  26408.3"
      ]
     },
     "execution_count": 2,
     "metadata": {},
     "output_type": "execute_result"
    }
   ],
   "source": [
    "# import the data here\n",
    "df_sales = pd.read_excel('RD_Sales.xlsx', 'data', index_col=None, na_values=['NA'])\n",
    "df_sales.head(n=5)\n"
   ]
  },
  {
   "cell_type": "markdown",
   "metadata": {},
   "source": [
    "## Task 1. (1 point)\n",
    "**Run a descriptive analysis of the dataset and give comments.**"
   ]
  },
  {
   "cell_type": "code",
   "execution_count": 3,
   "metadata": {},
   "outputs": [
    {
     "data": {
      "text/html": [
       "<div>\n",
       "<style scoped>\n",
       "    .dataframe tbody tr th:only-of-type {\n",
       "        vertical-align: middle;\n",
       "    }\n",
       "\n",
       "    .dataframe tbody tr th {\n",
       "        vertical-align: top;\n",
       "    }\n",
       "\n",
       "    .dataframe thead th {\n",
       "        text-align: right;\n",
       "    }\n",
       "</style>\n",
       "<table border=\"1\" class=\"dataframe\">\n",
       "  <thead>\n",
       "    <tr style=\"text-align: right;\">\n",
       "      <th></th>\n",
       "      <th>rd</th>\n",
       "      <th>sales</th>\n",
       "    </tr>\n",
       "  </thead>\n",
       "  <tbody>\n",
       "    <tr>\n",
       "      <th>count</th>\n",
       "      <td>18.00</td>\n",
       "      <td>18.00</td>\n",
       "    </tr>\n",
       "    <tr>\n",
       "      <th>mean</th>\n",
       "      <td>3056.86</td>\n",
       "      <td>89775.32</td>\n",
       "    </tr>\n",
       "    <tr>\n",
       "      <th>std</th>\n",
       "      <td>3705.97</td>\n",
       "      <td>80344.98</td>\n",
       "    </tr>\n",
       "    <tr>\n",
       "      <th>min</th>\n",
       "      <td>62.50</td>\n",
       "      <td>6375.30</td>\n",
       "    </tr>\n",
       "    <tr>\n",
       "      <th>25%</th>\n",
       "      <td>439.95</td>\n",
       "      <td>27907.62</td>\n",
       "    </tr>\n",
       "    <tr>\n",
       "      <th>50%</th>\n",
       "      <td>1607.95</td>\n",
       "      <td>75657.20</td>\n",
       "    </tr>\n",
       "    <tr>\n",
       "      <th>75%</th>\n",
       "      <td>4320.23</td>\n",
       "      <td>120772.10</td>\n",
       "    </tr>\n",
       "    <tr>\n",
       "      <th>max</th>\n",
       "      <td>13210.70</td>\n",
       "      <td>293543.00</td>\n",
       "    </tr>\n",
       "  </tbody>\n",
       "</table>\n",
       "</div>"
      ],
      "text/plain": [
       "             rd      sales\n",
       "count     18.00      18.00\n",
       "mean    3056.86   89775.32\n",
       "std     3705.97   80344.98\n",
       "min       62.50    6375.30\n",
       "25%      439.95   27907.62\n",
       "50%     1607.95   75657.20\n",
       "75%     4320.23  120772.10\n",
       "max    13210.70  293543.00"
      ]
     },
     "execution_count": 3,
     "metadata": {},
     "output_type": "execute_result"
    }
   ],
   "source": [
    "# provide a summary on the data\n",
    "df_sales.describe().round(2)"
   ]
  },
  {
   "cell_type": "code",
   "execution_count": 4,
   "metadata": {},
   "outputs": [
    {
     "data": {
      "text/html": [
       "<div>\n",
       "<style scoped>\n",
       "    .dataframe tbody tr th:only-of-type {\n",
       "        vertical-align: middle;\n",
       "    }\n",
       "\n",
       "    .dataframe tbody tr th {\n",
       "        vertical-align: top;\n",
       "    }\n",
       "\n",
       "    .dataframe thead th {\n",
       "        text-align: right;\n",
       "    }\n",
       "</style>\n",
       "<table border=\"1\" class=\"dataframe\">\n",
       "  <thead>\n",
       "    <tr style=\"text-align: right;\">\n",
       "      <th></th>\n",
       "      <th>rd</th>\n",
       "      <th>sales</th>\n",
       "    </tr>\n",
       "  </thead>\n",
       "  <tbody>\n",
       "    <tr>\n",
       "      <th>rd</th>\n",
       "      <td>1.000</td>\n",
       "      <td>0.692</td>\n",
       "    </tr>\n",
       "    <tr>\n",
       "      <th>sales</th>\n",
       "      <td>0.692</td>\n",
       "      <td>1.000</td>\n",
       "    </tr>\n",
       "  </tbody>\n",
       "</table>\n",
       "</div>"
      ],
      "text/plain": [
       "          rd  sales\n",
       "rd     1.000  0.692\n",
       "sales  0.692  1.000"
      ]
     },
     "execution_count": 4,
     "metadata": {},
     "output_type": "execute_result"
    }
   ],
   "source": [
    "# run a pair-wise correlation analysis\n",
    "rd = df_sales['rd']\n",
    "sales = df_sales['sales']\n",
    "XX = df_sales[['rd', 'sales']]\n",
    "XX.corr().round(3)"
   ]
  },
  {
   "cell_type": "code",
   "execution_count": 5,
   "metadata": {},
   "outputs": [
    {
     "name": "stdout",
     "output_type": "stream",
     "text": [
      "Pearson's correlation =  0.692\n",
      "Pearson's p-value =  0.001\n"
     ]
    }
   ],
   "source": [
    "coefPears, pvPears=stats.pearsonr(rd, sales) #correlation test\n",
    "\n",
    "print(\"Pearson's correlation = \", round(coefPears,3))\n",
    "print(\"Pearson's p-value = \", round(pvPears,3))"
   ]
  },
  {
   "cell_type": "code",
   "execution_count": 7,
   "metadata": {},
   "outputs": [
    {
     "data": {
      "image/png": "[encoded data removed]",
      "text/plain": [
       "<Figure size 432x288 with 1 Axes>"
      ]
     },
     "metadata": {
      "needs_background": "light"
     },
     "output_type": "display_data"
    }
   ],
   "source": [
    "# construct a scatter plot\n",
    "plt.scatter(sales, rd)\n",
    "plt.xlabel(\"R&D expenditures \")\n",
    "plt.ylabel(\"Total sales \")\n",
    "plt.title(\"The correlation\")\n",
    "plt.grid()\n",
    "\n",
    "#regression part\n",
    "slopeY, interceptY, _, _, _ = stats.linregress(sales, rd)\n",
    "lineY = slopeY*sales+interceptY\n",
    "plt.plot(sales, lineY, 'r', label='RD = {:.2f} + {:.2f}*Sales'.format(slopeY,interceptY))\n",
    "#end\n",
    "\n",
    "plt.legend()\n",
    "plt.show()"
   ]
  },
  {
   "cell_type": "markdown",
   "metadata": {},
   "source": [
    "1. The correlation analysis: H0: no correlation between variables; H1: there is correlation between variables. P-value is < 5%, so we reject the H0. So statistical tests show that there is a statistically significant positive correlation between the expenditures on R&D and sales.\n",
    "2. The scatter plot shows that there is  correlation between two variables, seeing as all the values are scattered and the regression line is linear, which means that there is linear relationship between these variables. On average, the R&D increases when Sales increase."
   ]
  },
  {
   "cell_type": "markdown",
   "metadata": {},
   "source": [
    "## Task 2. (1.5 points)\n",
    "**Estimate the following linear pair-wise regression Model 1:**\n",
    "\n",
    "$RD_i = \\beta_0+\\beta_1 \\cdot Sales_i + u_i$\n",
    "\n",
    "**and run the necessary tests. Give comments.**"
   ]
  },
  {
   "cell_type": "code",
   "execution_count": 8,
   "metadata": {},
   "outputs": [
    {
     "name": "stderr",
     "output_type": "stream",
     "text": [
      "/Users/useruser/anaconda3/lib/python3.7/site-packages/numpy/core/fromnumeric.py:2389: FutureWarning: Method .ptp is deprecated and will be removed in a future version. Use numpy.ptp instead.\n",
      "  return ptp(axis=axis, out=out, **kwargs)\n",
      "/Users/useruser/anaconda3/lib/python3.7/site-packages/scipy/stats/stats.py:1450: UserWarning: kurtosistest only valid for n>=20 ... continuing anyway, n=18\n",
      "  \"anyway, n=%i\" % int(n))\n"
     ]
    },
    {
     "data": {
      "text/html": [
       "<table class=\"simpletable\">\n",
       "<caption>OLS Regression Results</caption>\n",
       "<tr>\n",
       "  <th>Dep. Variable:</th>           <td>rd</td>        <th>  R-squared:         </th> <td>   0.478</td>\n",
       "</tr>\n",
       "<tr>\n",
       "  <th>Model:</th>                   <td>OLS</td>       <th>  Adj. R-squared:    </th> <td>   0.446</td>\n",
       "</tr>\n",
       "<tr>\n",
       "  <th>Method:</th>             <td>Least Squares</td>  <th>  F-statistic:       </th> <td>   14.67</td>\n",
       "</tr>\n",
       "<tr>\n",
       "  <th>Date:</th>             <td>Thu, 17 Oct 2019</td> <th>  Prob (F-statistic):</th>  <td>0.00148</td>\n",
       "</tr>\n",
       "<tr>\n",
       "  <th>Time:</th>                 <td>19:27:44</td>     <th>  Log-Likelihood:    </th> <td> -167.09</td>\n",
       "</tr>\n",
       "<tr>\n",
       "  <th>No. Observations:</th>      <td>    18</td>      <th>  AIC:               </th> <td>   338.2</td>\n",
       "</tr>\n",
       "<tr>\n",
       "  <th>Df Residuals:</th>          <td>    16</td>      <th>  BIC:               </th> <td>   340.0</td>\n",
       "</tr>\n",
       "<tr>\n",
       "  <th>Df Model:</th>              <td>     1</td>      <th>                     </th>     <td> </td>   \n",
       "</tr>\n",
       "<tr>\n",
       "  <th>Covariance Type:</th>      <td>nonrobust</td>    <th>                     </th>     <td> </td>   \n",
       "</tr>\n",
       "</table>\n",
       "<table class=\"simpletable\">\n",
       "<tr>\n",
       "    <td></td>       <th>coef</th>     <th>std err</th>      <th>t</th>      <th>P>|t|</th>  <th>[0.025</th>    <th>0.975]</th>  \n",
       "</tr>\n",
       "<tr>\n",
       "  <th>const</th> <td>  192.9931</td> <td>  990.986</td> <td>    0.195</td> <td> 0.848</td> <td>-1907.803</td> <td> 2293.789</td>\n",
       "</tr>\n",
       "<tr>\n",
       "  <th>sales</th> <td>    0.0319</td> <td>    0.008</td> <td>    3.830</td> <td> 0.001</td> <td>    0.014</td> <td>    0.050</td>\n",
       "</tr>\n",
       "</table>\n",
       "<table class=\"simpletable\">\n",
       "<tr>\n",
       "  <th>Omnibus:</th>       <td> 8.587</td> <th>  Durbin-Watson:     </th> <td>   3.016</td>\n",
       "</tr>\n",
       "<tr>\n",
       "  <th>Prob(Omnibus):</th> <td> 0.014</td> <th>  Jarque-Bera (JB):  </th> <td>   6.571</td>\n",
       "</tr>\n",
       "<tr>\n",
       "  <th>Skew:</th>          <td> 0.823</td> <th>  Prob(JB):          </th> <td>  0.0374</td>\n",
       "</tr>\n",
       "<tr>\n",
       "  <th>Kurtosis:</th>      <td> 5.460</td> <th>  Cond. No.          </th> <td>1.81e+05</td>\n",
       "</tr>\n",
       "</table><br/><br/>Warnings:<br/>[1] Standard Errors assume that the covariance matrix of the errors is correctly specified.<br/>[2] The condition number is large, 1.81e+05. This might indicate that there are<br/>strong multicollinearity or other numerical problems."
      ],
      "text/plain": [
       "<class 'statsmodels.iolib.summary.Summary'>\n",
       "\"\"\"\n",
       "                            OLS Regression Results                            \n",
       "==============================================================================\n",
       "Dep. Variable:                     rd   R-squared:                       0.478\n",
       "Model:                            OLS   Adj. R-squared:                  0.446\n",
       "Method:                 Least Squares   F-statistic:                     14.67\n",
       "Date:                Thu, 17 Oct 2019   Prob (F-statistic):            0.00148\n",
       "Time:                        19:27:44   Log-Likelihood:                -167.09\n",
       "No. Observations:                  18   AIC:                             338.2\n",
       "Df Residuals:                      16   BIC:                             340.0\n",
       "Df Model:                           1                                         \n",
       "Covariance Type:            nonrobust                                         \n",
       "==============================================================================\n",
       "                 coef    std err          t      P>|t|      [0.025      0.975]\n",
       "------------------------------------------------------------------------------\n",
       "const        192.9931    990.986      0.195      0.848   -1907.803    2293.789\n",
       "sales          0.0319      0.008      3.830      0.001       0.014       0.050\n",
       "==============================================================================\n",
       "Omnibus:                        8.587   Durbin-Watson:                   3.016\n",
       "Prob(Omnibus):                  0.014   Jarque-Bera (JB):                6.571\n",
       "Skew:                           0.823   Prob(JB):                       0.0374\n",
       "Kurtosis:                       5.460   Cond. No.                     1.81e+05\n",
       "==============================================================================\n",
       "\n",
       "Warnings:\n",
       "[1] Standard Errors assume that the covariance matrix of the errors is correctly specified.\n",
       "[2] The condition number is large, 1.81e+05. This might indicate that there are\n",
       "strong multicollinearity or other numerical problems.\n",
       "\"\"\""
      ]
     },
     "execution_count": 8,
     "metadata": {},
     "output_type": "execute_result"
    }
   ],
   "source": [
    "# provide estimation code here\n",
    "X = sm.add_constant(sales) #adding constant\n",
    "X.head()\n",
    "\n",
    "model1 = sm.OLS(rd, X).fit() #building a linear regression model\n",
    "\n",
    "# Print out the statistics\n",
    "model1.summary()"
   ]
  },
  {
   "cell_type": "code",
   "execution_count": 9,
   "metadata": {},
   "outputs": [
    {
     "data": {
      "text/plain": [
       "0   -333.867299\n",
       "1   -470.979135\n",
       "2   -482.195672\n",
       "3   -632.227860\n",
       "4   -540.726659\n",
       "dtype: float64"
      ]
     },
     "execution_count": 9,
     "metadata": {},
     "output_type": "execute_result"
    }
   ],
   "source": [
    "# provide tests here\n",
    "resids1 = model1.resid # storing residuals in another variable\n",
    "resids1.head()"
   ]
  },
  {
   "cell_type": "code",
   "execution_count": 10,
   "metadata": {},
   "outputs": [
    {
     "name": "stdout",
     "output_type": "stream",
     "text": [
      "\n",
      " --- The Shapiro-Wilk normality test ---\n",
      "                         value\n",
      "chi^2 test statistic  0.863718\n",
      "chi^2 test p-value    0.014043\n"
     ]
    }
   ],
   "source": [
    "# The Shapiro-Wilk normality test\n",
    "SW_test = pd.DataFrame(stats.shapiro(resids1), columns=['value'], \n",
    "                       index=['chi^2 test statistic', 'chi^2 test p-value'])\n",
    "\n",
    "print('\\n --- The Shapiro-Wilk normality test ---')\n",
    "print(SW_test)"
   ]
  },
  {
   "cell_type": "code",
   "execution_count": 11,
   "metadata": {},
   "outputs": [
    {
     "data": {
      "image/png": "[encoded data removed]",
      "text/plain": [
       "<Figure size 432x288 with 1 Axes>"
      ]
     },
     "execution_count": 11,
     "metadata": {},
     "output_type": "execute_result"
    },
    {
     "data": {
      "image/png": "[encoded data removed]",
      "text/plain": [
       "<Figure size 432x288 with 1 Axes>"
      ]
     },
     "metadata": {
      "needs_background": "light"
     },
     "output_type": "display_data"
    }
   ],
   "source": [
    "# Visual Normality Test\n",
    "qqplot(resids1, line='s')"
   ]
  },
  {
   "cell_type": "code",
   "execution_count": 12,
   "metadata": {},
   "outputs": [
    {
     "name": "stdout",
     "output_type": "stream",
     "text": [
      "\n",
      " --- The Breusch-Pagan test ---\n",
      "                         value\n",
      "chi^2 test statistic  3.995197\n",
      "chi^2 test p-value    0.045630\n",
      "F-test statistic      4.564374\n",
      "F-test p-value        0.048439\n"
     ]
    }
   ],
   "source": [
    "# The Breusch-Pagan heteroskedasticity test\n",
    "\n",
    "bp_test = pd.DataFrame(sms.het_breuschpagan(resids1, model1.model.exog), columns=['value'], \n",
    "                       index=['chi^2 test statistic', 'chi^2 test p-value', 'F-test statistic', 'F-test p-value'])\n",
    "\n",
    "print('\\n --- The Breusch-Pagan test ---')\n",
    "print(bp_test)"
   ]
  },
  {
   "cell_type": "code",
   "execution_count": 13,
   "metadata": {
    "scrolled": true
   },
   "outputs": [
    {
     "name": "stdout",
     "output_type": "stream",
     "text": [
      "<F test: F=array([[0.51603832]]), p=0.6078037555275958, df_denom=14, df_num=2>\n"
     ]
    }
   ],
   "source": [
    "# The RESET test\n",
    "reset = reset_ramsey(model1, degree=3) \n",
    "print(reset)"
   ]
  },
  {
   "cell_type": "markdown",
   "metadata": {},
   "source": [
    "- Normality test:\n",
    "\n",
    "P-value of S-W normality test is 1.4%, which is < 5%, which means that we have to reject the H0, that states that the distribution is normal, so the distribution is not normal. \n",
    "\n",
    "The qq-plot shows that the distribution is closer to normal.\n",
    "\n",
    "- Heteroskedasticity:\n",
    "\n",
    "H0: variance is constant. H1: variance is not constant. Both p-values are <5%, but very very close to 5, but we still reject the H0. Conclusion: variance is not constant, there is heteroskedasticity.\n",
    "\n",
    "- RESET: \n",
    "\n",
    "H0: chosen linear specification is correct (we have not missed some nonlinear transformation); H1: chosen linear specification is not correct (we have missed sth nonlinear). p-value = 60%, which is > 5%, so we must accept the H0, which states that the specification is correct"
   ]
  },
  {
   "cell_type": "markdown",
   "metadata": {},
   "source": [
    "Model:\n",
    "\n",
    "The R-squared of the model is 47.8%, which means that the value is not that good. It could be because the sample is very small, with only 18 observations.\n",
    "\n",
    "The coefficient of SALES is 0.0319, and its p-value is 0.1%, which is < 5%, so it's statistically significant."
   ]
  },
  {
   "cell_type": "markdown",
   "metadata": {},
   "source": [
    "## Task 3. (1.5 points)\n",
    "**Estimate the following log-linear pair-wise regression Model 2:**\n",
    "\n",
    "$log(RD)_i = \\gamma_0+\\gamma_1 \\cdot log(Sales)_i + \\varepsilon_i$\n",
    "\n",
    "**and run the necessary tests. Give comments.**"
   ]
  },
  {
   "cell_type": "code",
   "execution_count": 14,
   "metadata": {},
   "outputs": [
    {
     "data": {
      "text/html": [
       "<div>\n",
       "<style scoped>\n",
       "    .dataframe tbody tr th:only-of-type {\n",
       "        vertical-align: middle;\n",
       "    }\n",
       "\n",
       "    .dataframe tbody tr th {\n",
       "        vertical-align: top;\n",
       "    }\n",
       "\n",
       "    .dataframe thead th {\n",
       "        text-align: right;\n",
       "    }\n",
       "</style>\n",
       "<table border=\"1\" class=\"dataframe\">\n",
       "  <thead>\n",
       "    <tr style=\"text-align: right;\">\n",
       "      <th></th>\n",
       "      <th>const</th>\n",
       "      <th>logsales</th>\n",
       "    </tr>\n",
       "  </thead>\n",
       "  <tbody>\n",
       "    <tr>\n",
       "      <th>0</th>\n",
       "      <td>1.0</td>\n",
       "      <td>8.760186</td>\n",
       "    </tr>\n",
       "    <tr>\n",
       "      <th>1</th>\n",
       "      <td>1.0</td>\n",
       "      <td>9.361034</td>\n",
       "    </tr>\n",
       "    <tr>\n",
       "      <th>2</th>\n",
       "      <td>1.0</td>\n",
       "      <td>9.592544</td>\n",
       "    </tr>\n",
       "    <tr>\n",
       "      <th>3</th>\n",
       "      <td>1.0</td>\n",
       "      <td>9.992835</td>\n",
       "    </tr>\n",
       "    <tr>\n",
       "      <th>4</th>\n",
       "      <td>1.0</td>\n",
       "      <td>10.181434</td>\n",
       "    </tr>\n",
       "  </tbody>\n",
       "</table>\n",
       "</div>"
      ],
      "text/plain": [
       "   const   logsales\n",
       "0    1.0   8.760186\n",
       "1    1.0   9.361034\n",
       "2    1.0   9.592544\n",
       "3    1.0   9.992835\n",
       "4    1.0  10.181434"
      ]
     },
     "execution_count": 14,
     "metadata": {},
     "output_type": "execute_result"
    }
   ],
   "source": [
    "# provide estimation code here\n",
    "# take log of \n",
    "logcons = np.log(df_sales[['rd']]) \n",
    "logcons.columns = ['logrd']\n",
    "\n",
    "# transform the regressors\n",
    "XXL = np.log(df_sales[['sales']])\n",
    "XXL.columns = ['logsales']\n",
    "\n",
    "# add a constant term as a regressor\n",
    "XXL = sm.add_constant(XXL)\n",
    "\n",
    "XXL.head()"
   ]
  },
  {
   "cell_type": "code",
   "execution_count": 15,
   "metadata": {},
   "outputs": [
    {
     "data": {
      "text/html": [
       "<table class=\"simpletable\">\n",
       "<caption>OLS Regression Results</caption>\n",
       "<tr>\n",
       "  <th>Dep. Variable:</th>          <td>logrd</td>      <th>  R-squared:         </th> <td>   0.795</td>\n",
       "</tr>\n",
       "<tr>\n",
       "  <th>Model:</th>                   <td>OLS</td>       <th>  Adj. R-squared:    </th> <td>   0.782</td>\n",
       "</tr>\n",
       "<tr>\n",
       "  <th>Method:</th>             <td>Least Squares</td>  <th>  F-statistic:       </th> <td>   61.92</td>\n",
       "</tr>\n",
       "<tr>\n",
       "  <th>Date:</th>             <td>Thu, 17 Oct 2019</td> <th>  Prob (F-statistic):</th> <td>6.87e-07</td>\n",
       "</tr>\n",
       "<tr>\n",
       "  <th>Time:</th>                 <td>19:28:02</td>     <th>  Log-Likelihood:    </th> <td> -19.308</td>\n",
       "</tr>\n",
       "<tr>\n",
       "  <th>No. Observations:</th>      <td>    18</td>      <th>  AIC:               </th> <td>   42.62</td>\n",
       "</tr>\n",
       "<tr>\n",
       "  <th>Df Residuals:</th>          <td>    16</td>      <th>  BIC:               </th> <td>   44.40</td>\n",
       "</tr>\n",
       "<tr>\n",
       "  <th>Df Model:</th>              <td>     1</td>      <th>                     </th>     <td> </td>   \n",
       "</tr>\n",
       "<tr>\n",
       "  <th>Covariance Type:</th>      <td>nonrobust</td>    <th>                     </th>     <td> </td>   \n",
       "</tr>\n",
       "</table>\n",
       "<table class=\"simpletable\">\n",
       "<tr>\n",
       "      <td></td>        <th>coef</th>     <th>std err</th>      <th>t</th>      <th>P>|t|</th>  <th>[0.025</th>    <th>0.975]</th>  \n",
       "</tr>\n",
       "<tr>\n",
       "  <th>const</th>    <td>   -7.3647</td> <td>    1.848</td> <td>   -3.985</td> <td> 0.001</td> <td>  -11.282</td> <td>   -3.447</td>\n",
       "</tr>\n",
       "<tr>\n",
       "  <th>logsales</th> <td>    1.3222</td> <td>    0.168</td> <td>    7.869</td> <td> 0.000</td> <td>    0.966</td> <td>    1.678</td>\n",
       "</tr>\n",
       "</table>\n",
       "<table class=\"simpletable\">\n",
       "<tr>\n",
       "  <th>Omnibus:</th>       <td> 0.315</td> <th>  Durbin-Watson:     </th> <td>   2.399</td>\n",
       "</tr>\n",
       "<tr>\n",
       "  <th>Prob(Omnibus):</th> <td> 0.854</td> <th>  Jarque-Bera (JB):  </th> <td>   0.355</td>\n",
       "</tr>\n",
       "<tr>\n",
       "  <th>Skew:</th>          <td>-0.260</td> <th>  Prob(JB):          </th> <td>   0.837</td>\n",
       "</tr>\n",
       "<tr>\n",
       "  <th>Kurtosis:</th>      <td> 2.550</td> <th>  Cond. No.          </th> <td>    116.</td>\n",
       "</tr>\n",
       "</table><br/><br/>Warnings:<br/>[1] Standard Errors assume that the covariance matrix of the errors is correctly specified."
      ],
      "text/plain": [
       "<class 'statsmodels.iolib.summary.Summary'>\n",
       "\"\"\"\n",
       "                            OLS Regression Results                            \n",
       "==============================================================================\n",
       "Dep. Variable:                  logrd   R-squared:                       0.795\n",
       "Model:                            OLS   Adj. R-squared:                  0.782\n",
       "Method:                 Least Squares   F-statistic:                     61.92\n",
       "Date:                Thu, 17 Oct 2019   Prob (F-statistic):           6.87e-07\n",
       "Time:                        19:28:02   Log-Likelihood:                -19.308\n",
       "No. Observations:                  18   AIC:                             42.62\n",
       "Df Residuals:                      16   BIC:                             44.40\n",
       "Df Model:                           1                                         \n",
       "Covariance Type:            nonrobust                                         \n",
       "==============================================================================\n",
       "                 coef    std err          t      P>|t|      [0.025      0.975]\n",
       "------------------------------------------------------------------------------\n",
       "const         -7.3647      1.848     -3.985      0.001     -11.282      -3.447\n",
       "logsales       1.3222      0.168      7.869      0.000       0.966       1.678\n",
       "==============================================================================\n",
       "Omnibus:                        0.315   Durbin-Watson:                   2.399\n",
       "Prob(Omnibus):                  0.854   Jarque-Bera (JB):                0.355\n",
       "Skew:                          -0.260   Prob(JB):                        0.837\n",
       "Kurtosis:                       2.550   Cond. No.                         116.\n",
       "==============================================================================\n",
       "\n",
       "Warnings:\n",
       "[1] Standard Errors assume that the covariance matrix of the errors is correctly specified.\n",
       "\"\"\""
      ]
     },
     "execution_count": 15,
     "metadata": {},
     "output_type": "execute_result"
    }
   ],
   "source": [
    "# Estimate the logarithmic regression\n",
    "model2 = sm.OLS(logcons, XXL).fit()\n",
    "\n",
    "# Print out the statistics\n",
    "model2.summary()"
   ]
  },
  {
   "cell_type": "code",
   "execution_count": 16,
   "metadata": {},
   "outputs": [
    {
     "data": {
      "text/plain": [
       "0   -0.083204\n",
       "1   -0.481310\n",
       "2   -0.135477\n",
       "3   -0.293716\n",
       "4    0.106354\n",
       "dtype: float64"
      ]
     },
     "execution_count": 16,
     "metadata": {},
     "output_type": "execute_result"
    }
   ],
   "source": [
    "# provide tests here\n",
    "resids2 = model2.resid\n",
    "resids2.head()"
   ]
  },
  {
   "cell_type": "code",
   "execution_count": 17,
   "metadata": {},
   "outputs": [
    {
     "name": "stdout",
     "output_type": "stream",
     "text": [
      "\n",
      " --- The Shapiro-Wilk normality test ---\n",
      "                         value\n",
      "chi^2 test statistic  0.975880\n",
      "chi^2 test p-value    0.897962\n"
     ]
    }
   ],
   "source": [
    "# The Shapiro-Wilk normality test\n",
    "SW_test = pd.DataFrame(stats.shapiro(resids2), columns=['value'], \n",
    "                       index=['chi^2 test statistic', 'chi^2 test p-value'])\n",
    "\n",
    "print('\\n --- The Shapiro-Wilk normality test ---')\n",
    "print(SW_test)"
   ]
  },
  {
   "cell_type": "code",
   "execution_count": 18,
   "metadata": {},
   "outputs": [
    {
     "data": {
      "image/png": "[encoded data removed]",
      "text/plain": [
       "<Figure size 432x288 with 1 Axes>"
      ]
     },
     "execution_count": 18,
     "metadata": {},
     "output_type": "execute_result"
    },
    {
     "data": {
      "image/png": "[encoded data removed]",
      "text/plain": [
       "<Figure size 432x288 with 1 Axes>"
      ]
     },
     "metadata": {
      "needs_background": "light"
     },
     "output_type": "display_data"
    }
   ],
   "source": [
    "# Visual Normality Test\n",
    "qqplot(resids2, line='s')"
   ]
  },
  {
   "cell_type": "code",
   "execution_count": 19,
   "metadata": {},
   "outputs": [
    {
     "name": "stdout",
     "output_type": "stream",
     "text": [
      "\n",
      " --- The Breusch-Pagan test ---\n",
      "                         value\n",
      "chi^2 test statistic  2.549180\n",
      "chi^2 test p-value    0.110352\n",
      "F-test statistic      2.639787\n",
      "F-test p-value        0.123751\n"
     ]
    }
   ],
   "source": [
    "# The Breusch-Pagan heteroskedasticity test\n",
    "\n",
    "bp_test = pd.DataFrame(sms.het_breuschpagan(resids2, model2.model.exog), columns=['value'], \n",
    "                       index=['chi^2 test statistic', 'chi^2 test p-value', 'F-test statistic', 'F-test p-value'])\n",
    "\n",
    "print('\\n --- The Breusch-Pagan test ---')\n",
    "print(bp_test)"
   ]
  },
  {
   "cell_type": "code",
   "execution_count": 20,
   "metadata": {},
   "outputs": [
    {
     "name": "stdout",
     "output_type": "stream",
     "text": [
      "<F test: F=array([[0.7038561]]), p=0.5113628169028527, df_denom=14, df_num=2>\n"
     ]
    }
   ],
   "source": [
    "# The RESET test\n",
    "reset = reset_ramsey(model2, degree=3) \n",
    "print(reset)"
   ]
  },
  {
   "cell_type": "markdown",
   "metadata": {},
   "source": [
    "- Normality test:\n",
    "\n",
    "P-value of S-W normality test is 89%, which is > 5%, which means that we have to accept the H0, that states that the distribution is normal, so the distribution is  normal. \n",
    "\n",
    "The qq-plot shows that the distribution is closer to normal.\n",
    "\n",
    "- Heteroskedasticity:\n",
    "\n",
    "H0: variance is constant. H1: variance is not constant. Both p-values are >5%, 11% and 12% respectively , so we accept the H0. Conclusion: variance is  constant, there is homoskedasticity.\n",
    "\n",
    "- RESET: \n",
    "\n",
    "H0: chosen linear specification is correct (we have not missed some nonlinear transformation); H1: chosen linear specification is not correct (we have missed sth nonlinear). p-value = 51%, which is > 5%, so we must accept the H0, which states that the specification is correct"
   ]
  },
  {
   "cell_type": "markdown",
   "metadata": {},
   "source": [
    "Model:\n",
    "\n",
    "The R-squared of the model is 79.5%, which means that the value is better that before, but still could be better. Other regressors should be added to improve the model. \n",
    "\n",
    "The coefficient of LOGSALES is 1.3222, and its p-value is 0%, which is < 5%, so it's statistically significant."
   ]
  }
 ],
 "metadata": {
  "kernelspec": {
   "display_name": "Python 3",
   "language": "python",
   "name": "python3"
  },
  "language_info": {
   "codemirror_mode": {
    "name": "ipython",
    "version": 3
   },
   "file_extension": ".py",
   "mimetype": "text/x-python",
   "name": "python",
   "nbconvert_exporter": "python",
   "pygments_lexer": "ipython3",
   "version": "3.7.3"
  },
  "varInspector": {
   "cols": {
    "lenName": 16,
    "lenType": 16,
    "lenVar": 40
   },
   "kernels_config": {
    "python": {
     "delete_cmd_postfix": "",
     "delete_cmd_prefix": "del ",
     "library": "var_list.py",
     "varRefreshCmd": "print(var_dic_list())"
    },
    "r": {
     "delete_cmd_postfix": ") ",
     "delete_cmd_prefix": "rm(",
     "library": "var_list.r",
     "varRefreshCmd": "cat(var_dic_list()) "
    }
   },
   "position": {
    "height": "475px",
    "left": "757px",
    "right": "20px",
    "top": "126px",
    "width": "686px"
   },
   "types_to_exclude": [
    "module",
    "function",
    "builtin_function_or_method",
    "instance",
    "_Feature"
   ],
   "window_display": false
  }
 },
 "nbformat": 4,
 "nbformat_minor": 2
}
